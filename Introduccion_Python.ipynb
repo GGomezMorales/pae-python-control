{
  "nbformat": 4,
  "nbformat_minor": 0,
  "metadata": {
    "colab": {
      "provenance": [],
      "include_colab_link": true
    },
    "kernelspec": {
      "name": "python3",
      "display_name": "Python 3"
    },
    "language_info": {
      "name": "python"
    }
  },
  "cells": [
    {
      "cell_type": "markdown",
      "metadata": {
        "id": "view-in-github",
        "colab_type": "text"
      },
      "source": [
        "<a href=\"https://colab.research.google.com/github/GGomezMorales/pae-python-control/blob/introduction/Introduccion_Python.ipynb\" target=\"_parent\"><img src=\"https://colab.research.google.com/assets/colab-badge.svg\" alt=\"Open In Colab\"/></a>"
      ]
    },
    {
      "cell_type": "markdown",
      "source": [
        "#Hola! Bienvenid@ a **Google Colab**. \n",
        "###Este entorno está diseñado para la programación de código en Python 3.\n",
        "\n",
        "\n",
        "###Vamos a crear nuestro _primer código!_\n"
      ],
      "metadata": {
        "id": "0qNGz81mryvJ"
      }
    },
    {
      "cell_type": "markdown",
      "source": [
        "## **Introducción**\n",
        "\n",
        "Python es un lenguaje de programación de alto nivel y de propósito general. Es popular por su sintaxis simple y legible, lo que lo hace fácil de aprender y usar. Cuentacon una amplia gama de librerías y módulos disponibles, lo que permite su uso en una variedad de aplicaciones, desde Data Science y Machine Learning hasta desarrollo web y automatización de tareas. Es un lenguaje de código abierto y multiplataforma, lo que significa que puede ser utilizado en diferentes sistemas operativos.\n",
        "\n",
        "### **Aspectos generales:**\n",
        "\n",
        "*   \n",
        "Todas las variables en Python están asociadas a sus respectivas clases y pueden ser **mutables** o **inmutables**. Las variables **mutables** permiten la variación de su valor una vez asignado y no se modifica su ubicación en la memoria RAM cada vez que se usa. Por el contrario, las variables **inmutables** no se les puede cambiar su valor una vez asignado y se crea una nueva ubicación en la memoria RAM cada vez que se usa.\n",
        "\n",
        "*   \n",
        "Se recomienda emplear **snake case** para nombrar las variables en Python. Esto significa que se utilizan guiones bajos para separar palabras dentro de un nombre. Por ejemplo, podemos nombrar nuestras variables como: mi_variable, funcion_transferencia, vector_tiempo, senal_cosenoidal.\n",
        "\n",
        "*   \n",
        "Los valores de las variables se pueden mostrar en pantalla con el comando **print()**, haciendo uso de **f-string (f' ')** para facilitar la interpolación de variables dentro de una cadena. Esto permite que sea más sencillo y legible insertar variables en una cadena. Además, la aparición de **\\n** en una cadena representa un salto de línea en ésta.\n",
        "\n",
        "*   \n",
        "Con el atajo **Ctrl** + **Space** activamos la ayuda de sugerencias de autocompletado que brinda el entorno colab. Esto significa que se mostrará una lista con las sugerencias asociadas a lo que se está escribiendo, lo cual nos permite ahorrar tiempo y esfuerzo al momento de programar. Esto hace que la escritura del código sea mucho más ágil y eficiente.\n",
        "\n",
        "*   \n",
        "Cuando se presiona **Ctrl** + **Enter**, la celda actual se ejecutará y se mostrarán los resultados. Esta es una forma rápida de probar y ejecutar código sin necesidad de ejecutar todo el código del documento.\n",
        "\n",
        "---\n",
        "\n"
      ],
      "metadata": {
        "id": "98aYxYjhQ8Eh"
      }
    },
    {
      "cell_type": "code",
      "source": [
        "print(\"Hello world\")   # Al presionar ejecutar, vamos a imprimir el primer mensaje."
      ],
      "metadata": {
        "id": "HaxT-PAbRUYj",
        "colab": {
          "base_uri": "https://localhost:8080/"
        },
        "outputId": "2ebfb56d-f5ca-4397-bc47-52b0aaae4d0f"
      },
      "execution_count": null,
      "outputs": [
        {
          "output_type": "stream",
          "name": "stdout",
          "text": [
            "Hello world\n"
          ]
        }
      ]
    },
    {
      "cell_type": "markdown",
      "source": [
        "## **Librerías y sus métodos**\n",
        "\n",
        "Las librerías son \"complementos\" que permiten añadir funciones a Python que no vienen en la interfaz por defecto.\n",
        "\n",
        "Los nombres \"np\" y \"plt\" son abreviaciones (apodos) de las librerías y se pueden llamar como tú prefieras.\n",
        "Por convención, se suele usar estás abreviaciones para fácilitar la escritura del código."
      ],
      "metadata": {
        "id": "ACw6rIRhyg1x"
      }
    },
    {
      "cell_type": "code",
      "source": [
        "# Vamos a importar las librerias de interes para el curso de la siguiente manera\n",
        "\n",
        "import numpy as np                # Importamos la librería Numpy\n",
        "import matplotlib.pyplot as plt   # Importamos la libreria MatPlotLib\n",
        "import scipy                      # Importamos la libreria SciPy"
      ],
      "metadata": {
        "id": "wIEoFSYdyhSH"
      },
      "execution_count": null,
      "outputs": []
    },
    {
      "cell_type": "markdown",
      "source": [
        "Cada librería tiene un catálogo de códigos que nos permiten realizar diversas funciones y \n",
        "trabajar en conjunto con otras librerías para aprovechar el entorno de Python.\n",
        "Algunas de las funciones más importantes que trabajaremos en el curso son:"
      ],
      "metadata": {
        "id": "8imrHMjZoubj"
      }
    },
    {
      "cell_type": "code",
      "source": [
        "# Para llamar la función de una librería tenemos que colocar el identificador primero y luego el nombre de esta\n",
        "\n",
        "\"\"\" \n",
        "La función \"arange\" de numpy permite crear un arreglo de números (vectores de tiempo esencialmente).\n",
        "Esta función tiene la siguiente estructura:\n",
        "\n",
        "arange([inicio],[final],[paso])\n",
        "\n",
        "Donde el inicio y el final marcan los límites del arreglo y el paso determina la cantidad de muestras que se van a tomar \n",
        "entre estos límites.\n",
        "\"\"\"\n",
        "\n",
        "t = np.arange(0,10,2);\n",
        "print(f't = {t}') # Prueba correrlo, cambia los parámetros y mira el resultado! "
      ],
      "metadata": {
        "colab": {
          "base_uri": "https://localhost:8080/"
        },
        "id": "CrFmbc3Gq2tX",
        "outputId": "e1e60406-8451-48a6-b2af-ff127e941c37"
      },
      "execution_count": null,
      "outputs": [
        {
          "output_type": "stream",
          "name": "stdout",
          "text": [
            "t = [0 2 4 6 8]\n"
          ]
        }
      ]
    },
    {
      "cell_type": "code",
      "source": [
        "\"\"\"\n",
        "La función \"linspace\" es muy parecida a la función \"arange\", ambas de numpy, la diferencia es que mediante la \n",
        "función linspace podemos crear arreglos de números cuyos datos están equiespaciados entre si. Esta función tiene \n",
        "la siguiente estructura: \n",
        "\n",
        "linspace([inicio],[final],[paso])\n",
        "\n",
        "Podemos observar que la estructura es igual a la de la función \"arange\", sin embargo, para el caso de linspace el \n",
        "paso marca la separación entre los datos. \n",
        "\"\"\"\n",
        "\n",
        "t = np.linspace(0,1000,5); \n",
        "print (f't = {t}') # Prueba cambiar los límites y el paso y mira lo que ocurre!"
      ],
      "metadata": {
        "id": "ApiOnXCss4Kd",
        "colab": {
          "base_uri": "https://localhost:8080/"
        },
        "outputId": "81b0061b-8895-4c4c-cb36-4e227122954a"
      },
      "execution_count": null,
      "outputs": [
        {
          "output_type": "stream",
          "name": "stdout",
          "text": [
            "t = [   0.  250.  500.  750. 1000.]\n"
          ]
        }
      ]
    },
    {
      "cell_type": "code",
      "source": [
        "# La librería numpy también cuenta con funciones famosas como lo son:\n",
        "\n",
        "np.pi;    # El número pi\n",
        "np.sin;   # La función seno\n",
        "np.cos;   # La función coseno\n",
        "\n",
        "\" Existen otras muchas funciones y complementos con los que cuenta esta librería y que iremos descubriendo a lo largo del curso. \""
      ],
      "metadata": {
        "id": "4nCbNVmCt_ta",
        "colab": {
          "base_uri": "https://localhost:8080/",
          "height": 36
        },
        "outputId": "3729e5c4-38ed-4922-9ad9-4a2c43b1562e"
      },
      "execution_count": null,
      "outputs": [
        {
          "output_type": "execute_result",
          "data": {
            "text/plain": [
              "' Existen otras muchas funciones y complementos con los que cuenta esta librería y que iremos descubriendo a lo largo del curso. '"
            ],
            "application/vnd.google.colaboratory.intrinsic+json": {
              "type": "string"
            }
          },
          "metadata": {},
          "execution_count": 5
        }
      ]
    },
    {
      "cell_type": "code",
      "source": [
        "# Veamos algunos comandos de la librería MatPlotLib\n",
        "\n",
        "plt.plot();  # Nos permite gráficar funciones de numpy u otras librerías\n",
        "plt.grid();  # Cóloca una cuadrícula en la gráfica de las funciones\n",
        "plt.xlim();  # Nos permite definir límites para la gráfica en el eje de las abcisas\n",
        "plt.ylim();  # Nos permite definir límites para la gráfica en el eje de las ordenadas\n",
        "plt.show();  # Nos permite visualizar varias funciones en una sola gráfica\n",
        "\n",
        "\"\"\" \n",
        "A lo largo del curso verémos algunas otras herramientas que nos permitirán gráficar y organizar gráficas usando\n",
        "MatPlotLib. \n",
        "\"\"\""
      ],
      "metadata": {
        "id": "cL_JWItHu0fI",
        "colab": {
          "base_uri": "https://localhost:8080/",
          "height": 284
        },
        "outputId": "5099c9c9-6f25-43a3-a405-856029a9f687"
      },
      "execution_count": null,
      "outputs": [
        {
          "output_type": "display_data",
          "data": {
            "text/plain": [
              "<Figure size 432x288 with 1 Axes>"
            ],
            "image/png": "[encoded data removed]"
          },
          "metadata": {
            "needs_background": "light"
          }
        },
        {
          "output_type": "execute_result",
          "data": {
            "text/plain": [
              "' \\nA lo largo del curso verémos algunas otras herramientas que nos permitirán gráficar y organizar gráficas usando\\nMatPlotLib. \\n'"
            ],
            "application/vnd.google.colaboratory.intrinsic+json": {
              "type": "string"
            }
          },
          "metadata": {},
          "execution_count": 6
        }
      ]
    },
    {
      "cell_type": "code",
      "source": [
        "# Por último, veamos algunas librerías internas de la librería SciPy\n",
        "\n",
        "from scipy import signal # De esta forma llamamos una librería o función que se encuentra dentro de otra librería\n",
        "\n",
        "\"\"\" \n",
        "La librería SciPy es una librería diseñada y enfocada para el procesamiento de señales. Esta librería cuenta con \n",
        "una librería interna llamada \"signal\" la cual nos permite operar con señales conocidas como la señal cuadrada, diente de sierra, entre otras. \n",
        "\"\"\"\n",
        "\n",
        "\"signal.square()\"    # Esta función nos permite llamar una señal cuadrada\n",
        "\"signal.sawtooth()\"  # Esta función nos permite llamar una señal diente de sierra\n",
        "\n",
        "\"Éstas son algunas de las señales que estaremos usando a lo largo del curso y que nos permitirán operar y trabajar entre ellas. \""
      ],
      "metadata": {
        "id": "qbwqKhs4wHtx",
        "colab": {
          "base_uri": "https://localhost:8080/",
          "height": 36
        },
        "outputId": "37ed84cf-e0f7-4e51-8ffb-08b42c824032"
      },
      "execution_count": null,
      "outputs": [
        {
          "output_type": "execute_result",
          "data": {
            "text/plain": [
              "'Éstas son algunas de las señales que estaremos usando a lo largo del curso y que nos permitirán operar y trabajar entre ellas. '"
            ],
            "application/vnd.google.colaboratory.intrinsic+json": {
              "type": "string"
            }
          },
          "metadata": {},
          "execution_count": 7
        }
      ]
    },
    {
      "cell_type": "markdown",
      "source": [
        "## **Tipos de variables.**"
      ],
      "metadata": {
        "id": "8MVsjgwi3Uk5"
      }
    },
    {
      "cell_type": "markdown",
      "source": [
        "**Entero (int):** Estas variables almacenan números enteros, como -1, 0, 1, 2, etc."
      ],
      "metadata": {
        "id": "-pXnvBPW5Qh6"
      }
    },
    {
      "cell_type": "code",
      "source": [
        "numero_entero = 4\n",
        "print(f'Número int: {numero_entero}.\\nClase de la variable: {type(numero_entero)}')"
      ],
      "metadata": {
        "id": "ez9XUelg3UHx",
        "colab": {
          "base_uri": "https://localhost:8080/"
        },
        "outputId": "1db48531-a6af-49cb-cc6c-2138a1c50e72"
      },
      "execution_count": null,
      "outputs": [
        {
          "output_type": "stream",
          "name": "stdout",
          "text": [
            "Número int: 4.\n",
            "Clase de la variable: <class 'int'>\n"
          ]
        }
      ]
    },
    {
      "cell_type": "markdown",
      "source": [
        "**Flotante (float):** Estas variables almacenan números con decimales, como 3.14, -2.5, etc.\n",
        "\n"
      ],
      "metadata": {
        "id": "HOS15Fmf5pSz"
      }
    },
    {
      "cell_type": "code",
      "source": [
        "numero_flotante = 3.1415\n",
        "print(f'Número float: {numero_flotante}.\\nClase de la variable: {type(numero_flotante)}')"
      ],
      "metadata": {
        "id": "067Yf4Bi6T2f",
        "colab": {
          "base_uri": "https://localhost:8080/"
        },
        "outputId": "aa2b1ae6-5e30-47a7-d204-fb3b7f946cd3"
      },
      "execution_count": null,
      "outputs": [
        {
          "output_type": "stream",
          "name": "stdout",
          "text": [
            "Número float: 3.1415.\n",
            "Clase de la variable: <class 'float'>\n"
          ]
        }
      ]
    },
    {
      "cell_type": "markdown",
      "source": [
        "**Cadena o String (str):** Estas variables almacenan cadenas de caracteres, como \"Hello world\", \"Python\", \"I love programming in Python\", etc."
      ],
      "metadata": {
        "id": "LHxfiOL66axR"
      }
    },
    {
      "cell_type": "code",
      "source": [
        "cadena = \"Soy una variable que almacena caracteres ;)\"\n",
        "print(f'cadena str: {cadena}\\nClase de la variable: {type(cadena)}')"
      ],
      "metadata": {
        "id": "EZt68HQj6zqz",
        "colab": {
          "base_uri": "https://localhost:8080/"
        },
        "outputId": "8608b996-1386-424d-8200-c34e525f2570"
      },
      "execution_count": null,
      "outputs": [
        {
          "output_type": "stream",
          "name": "stdout",
          "text": [
            "cadena str: Soy una variable que almacena caracteres ;)\n",
            "Clase de la variable: <class 'str'>\n"
          ]
        }
      ]
    },
    {
      "cell_type": "markdown",
      "source": [
        "**Booleano (bool):** Estas variables almacenan valores booleano, como **True o False**"
      ],
      "metadata": {
        "id": "j0maHiGt60Xy"
      }
    },
    {
      "cell_type": "code",
      "source": [
        "booleano = False\n",
        "print(f'Boolean: {booleano}\\nClase de la variable: {type(booleano)}')"
      ],
      "metadata": {
        "id": "ZpS2KyPZ7Mdo",
        "colab": {
          "base_uri": "https://localhost:8080/"
        },
        "outputId": "fbf839e7-14a3-4c35-f068-ed872edff894"
      },
      "execution_count": null,
      "outputs": [
        {
          "output_type": "stream",
          "name": "stdout",
          "text": [
            "Boolean: False\n",
            "Clase de la variable: <class 'bool'>\n"
          ]
        }
      ]
    },
    {
      "cell_type": "code",
      "source": [
        "# Una variable booleana tambien se puede expresar como una operación lógica, comparación y evaluacíon \n",
        "\n",
        "mi_variable_booleana = 1 > 5\n",
        "print(f' la clase de la variable es: {type(mi_variable_booleana)} la variables es: {mi_variable_booleana}') # Imprime False, ¡pruebalo!"
      ],
      "metadata": {
        "id": "J0HQEkdtQljQ",
        "colab": {
          "base_uri": "https://localhost:8080/"
        },
        "outputId": "e1f85544-bcd2-4cd0-d624-9d07f4f00ed6"
      },
      "execution_count": null,
      "outputs": [
        {
          "output_type": "stream",
          "name": "stdout",
          "text": [
            " la clase de la variable es: <class 'bool'> la variables es: False\n"
          ]
        }
      ]
    },
    {
      "cell_type": "markdown",
      "source": [
        "## **Operadores y asignación de variables**"
      ],
      "metadata": {
        "id": "RX1XouhNyvFk"
      }
    },
    {
      "cell_type": "markdown",
      "source": [
        "### **Operadores aritméticos**"
      ],
      "metadata": {
        "id": "TfD7C_mtR-6N"
      }
    },
    {
      "cell_type": "code",
      "source": [
        "first_number = 11\n",
        "second_number = 7\n",
        "\n",
        "print(f'Operaciones aritmetica con los siguientes numeros: {first_number} y {second_number}')\n",
        "\n",
        "# Suma\n",
        "suma = first_number + second_number\n",
        "print(f'Resultado de la suma es: {suma}')\n",
        "\n",
        "# Resta\n",
        "resta = first_number - second_number\n",
        "print(f'Resultado de la resta es: {resta}')\n",
        "\n",
        "# Multiplicación\n",
        "multiplicacion = first_number * second_number\n",
        "print(f'Resultado de la multiplicación es: {multiplicacion}')\n",
        "\n",
        "# División\n",
        "division = first_number / second_number\n",
        "print(f'Resultado de la división es: {division}')\n",
        "\n",
        "# División entera\n",
        "divisionEntera = first_number // second_number\n",
        "print(f'Resultado de la división entera es: {divisionEntera}')\n",
        "\n",
        "# Módulo\n",
        "modulo = first_number % second_number\n",
        "print(f'Resultado del módulo (residuo) es: {modulo}')\n",
        "\n",
        "# Exponente\n",
        "exponenciacion = first_number ** second_number\n",
        "print(f'Resultado de la exponenciación es: {exponenciacion}\\n')"
      ],
      "metadata": {
        "id": "HSkfV1wZSMn_",
        "colab": {
          "base_uri": "https://localhost:8080/"
        },
        "outputId": "ba14e804-1fe5-468d-af46-2877f8a176c3"
      },
      "execution_count": null,
      "outputs": [
        {
          "output_type": "stream",
          "name": "stdout",
          "text": [
            "Operaciones aritmetica con los siguientes numeros: 11 y 7\n",
            "Resultado de la suma es: 18\n",
            "Resultado de la resta es: 4\n",
            "Resultado de la multiplicación es: 77\n",
            "Resultado de la división es: 1.5714285714285714\n",
            "Resultado de la división entera es: 1\n",
            "Resultado del módulo (residuo) es: 4\n",
            "Resultado de la exponenciación es: 19487171\n",
            "\n"
          ]
        }
      ]
    },
    {
      "cell_type": "markdown",
      "source": [
        "### **Operadores de asignación**"
      ],
      "metadata": {
        "id": "L2UUhIiNUDWk"
      }
    },
    {
      "cell_type": "code",
      "source": [
        "# Asignación de una variable\n",
        "my_variable = 10\n",
        "print(f'La variable inicial tiene un valor de {my_variable}\\n')\n",
        "\n",
        "# Asignación de incremento (my_variable + 7) [Reasignación]\n",
        "my_variable += 7\n",
        "# my_variable = my_variable + 7\n",
        "print(f'El incremento fue de 7')\n",
        "print(f'La asignación de incremento da como resultado: {my_variable} ya que se incrementó 7\\n')\n",
        "\n",
        "# Asignación de disminución (my_variable - 2) [Reasignación]\n",
        "my_variable -= 2\n",
        "# my_variable = my_variable + 7\n",
        "print(f'La disminucion fue de 2')\n",
        "print(f'La asignación de disminución da como resultado: {my_variable} ya que disminuyó 2\\n')\n",
        "\n",
        "# Asignación de multiplicación (my_variable * 2) [Reasignación]\n",
        "my_variable *= 2\n",
        "# my_variable = my_variable * 2\n",
        "print(f'La asignación de multiplicacíon da como resultado: {my_variable} ya que se multiplicó por 2')\n",
        "\n",
        "# Asignación de división (my_variable / 3) [Reasignación]\n",
        "# my_variable = my_variable / 3\n",
        "my_variable /= 3\n",
        "print(f'La asignación de división da como resultado: {my_variable} ya que se dividió por 3')\n",
        "\n",
        "# Asignación de división entera (my_variable // 4) [Reasignación]\n",
        "my_variable //= 4\n",
        "# my_variable = my_variable // 4\n",
        "print(f'La asignación de división entera da como resultado: {my_variable} ya que se dividió por 4\\n')"
      ],
      "metadata": {
        "id": "D2JOwkdhUSpA",
        "colab": {
          "base_uri": "https://localhost:8080/"
        },
        "outputId": "cdf9af19-34c8-4f65-8f67-9ff3dfadcc65"
      },
      "execution_count": null,
      "outputs": [
        {
          "output_type": "stream",
          "name": "stdout",
          "text": [
            "La variable inicial tiene un valor de 10\n",
            "\n",
            "El incremento fue de 7\n",
            "La asignación de incremento da como resultado: 17 ya que se incrementó 7\n",
            "\n",
            "La disminucion fue de 2\n",
            "La asignación de disminución da como resultado: 15 ya que disminuyó 2\n",
            "\n",
            "La asignación de multiplicacíon da como resultado: 30 ya que se multiplicó por 2\n",
            "La asignación de división da como resultado: 10.0 ya que se dividió por 3\n",
            "La asignación de división entera da como resultado: 2.0 ya que se dividió por 4\n",
            "\n"
          ]
        }
      ]
    },
    {
      "cell_type": "markdown",
      "source": [
        "### **Asignación booleana**"
      ],
      "metadata": {
        "id": "zLMlZ8GgVuZV"
      }
    },
    {
      "cell_type": "code",
      "source": [
        "# Definimos los siguientes números\n",
        "a = 3; b = 4\n",
        "\n",
        "print(f'Los numeros en cuestion son: {a} y {b}')\n",
        "\n",
        "resp = a == b # booleano\n",
        "print(f'Resultado con el operador == es : {resp}')\n",
        "\n",
        "resp = a != b # booleano\n",
        "print(f'Resultado con el operador != es : {resp}')\n",
        "\n",
        "resp = a > b # booleano\n",
        "print(f'Resultado con el operador > es : {resp}')\n",
        "\n",
        "resp = a >= b # booleano\n",
        "print(f'Resultado con el operador >= es : {resp}')\n",
        "\n",
        "resp = a < b # booleano\n",
        "print(f'Resultado con el operador < es : {resp}')\n",
        "\n",
        "resp = a <= b # booleano\n",
        "print(f'Resultado con el operador <= es : {resp}')"
      ],
      "metadata": {
        "id": "aFJvT1vOV3ns",
        "colab": {
          "base_uri": "https://localhost:8080/"
        },
        "outputId": "0218ce79-c15f-48df-f53f-2be8713c05dc"
      },
      "execution_count": null,
      "outputs": [
        {
          "output_type": "stream",
          "name": "stdout",
          "text": [
            "Los numeros en cuestion son: 3 y 4\n",
            "Resultado con el operador == es : False\n",
            "Resultado con el operador != es : True\n",
            "Resultado con el operador > es : False\n",
            "Resultado con el operador >= es : False\n",
            "Resultado con el operador < es : True\n",
            "Resultado con el operador <= es : True\n"
          ]
        }
      ]
    },
    {
      "cell_type": "markdown",
      "source": [
        "## **Sentencias condicionales**\n",
        "\n",
        "Son estructuras de control que permiten la ejecución de un código basado en una condición:\n",
        "\n",
        "\n",
        "\n",
        "*   **if:** Se utiliza para ejecutar un bloque de código si la condición evaluada es verdadera.\n",
        "*   **elif:** Se utiliza para evaluar varias condiciones y ejecutar un bloque de código si alguna de las condiciones es verdadera.\n",
        "*   **else:** Se utiliza para ejecutar un bloque de código si la condición es falsa.\n",
        "\n",
        "\n",
        "\n",
        "\n",
        "\n",
        "\n",
        "\n",
        "\n",
        "\n",
        "\n"
      ],
      "metadata": {
        "id": "U8wsTXKKew_G"
      }
    },
    {
      "cell_type": "code",
      "source": [
        "# Ejemplo de un control PID\n",
        "\n",
        "# Definimos los parámetros del controlador\n",
        "Kp = 0.5\n",
        "Ki = 0.2\n",
        "Kd = 0.1\n",
        "\n",
        "# Definimos el valor deseado\n",
        "valor_deseado = 10\n",
        "\n",
        "# Definimos el valor actual\n",
        "valor_actual = 8\n",
        "\n",
        "# Calculamos el error\n",
        "error = valor_deseado - valor_actual\n",
        "\n",
        "# Si el error es positivo, aplicamos el controlador PID para aumentar el valor actual\n",
        "if error > 0:\n",
        "    controlador_PID = (Kp + Ki +Kd) * error \n",
        "    valor_actual += controlador_PID                             # Aumentamos el valor actual con el controlador PID calculado\n",
        "elif error < 0:                                                 # Si el error es negativo, aplicamos el controlador PID para disminuir el valor actual\n",
        "    controlador_PID = (Kp + Ki + Kd) * error                    # Aplicamos la fórmula del controlador PID\n",
        "    valor_actual -= controlador_PID    \n",
        "\n",
        "print(f'El valor actual es: {valor_actual}')                    # Disminuimos el valor actual con el controlador PID calculado\n"
      ],
      "metadata": {
        "id": "GJ4X8tkdfd-X",
        "colab": {
          "base_uri": "https://localhost:8080/"
        },
        "outputId": "959fd857-26ae-4ebf-d701-e5e50684134f"
      },
      "execution_count": null,
      "outputs": [
        {
          "output_type": "stream",
          "name": "stdout",
          "text": [
            "El valor actual es: 9.6\n"
          ]
        }
      ]
    },
    {
      "cell_type": "markdown",
      "source": [
        "## **Ciclos**\n",
        "Los ciclos se usan para realizar un conjunto de acciones repetidamente bajo ciertas condiciones y parámetros. \n"
      ],
      "metadata": {
        "id": "b6JXychUgDsz"
      }
    },
    {
      "cell_type": "markdown",
      "source": [
        "### **Ciclo for**\n",
        "El ciclo **for** se usa para iterar sobre una secuencia objetos, como listas, tuplas."
      ],
      "metadata": {
        "id": "qmflX_HbgN-1"
      }
    },
    {
      "cell_type": "code",
      "source": [
        "# Los ciclos for se usan definiendo parámetros de iteración, así, veamos un ejemplo sencillo:\n",
        "\n",
        "colores = ['rojo', 'verde', 'azul', 'amarillo', \"naranja\"]\n",
        "colores_invalidos = ['naranja', 'morado']\n",
        "\n",
        "for color in colores:\n",
        "    if color in colores_invalidos:\n",
        "        print(f'{color}: ¡No es un color válido!')\n",
        "    else:\n",
        "        print(f'El color es: {color}')"
      ],
      "metadata": {
        "id": "6wuKgwZbrNbA",
        "colab": {
          "base_uri": "https://localhost:8080/"
        },
        "outputId": "becf3a5e-6dd3-444e-9ad8-062a21108357"
      },
      "execution_count": null,
      "outputs": [
        {
          "output_type": "stream",
          "name": "stdout",
          "text": [
            "El color es: rojo\n",
            "El color es: verde\n",
            "El color es: azul\n",
            "El color es: amarillo\n",
            "naranja: ¡No es un color válido!\n"
          ]
        }
      ]
    },
    {
      "cell_type": "markdown",
      "source": [
        "### **Ciclo while**\n",
        "Por otro lado, el ciclo while se usa para ejecutar repetidamente un conjunto de instrucciones bajo unos condicionales."
      ],
      "metadata": {
        "id": "uPKiPA0xgSJu"
      }
    },
    {
      "cell_type": "code",
      "source": [
        "# Veamos un ejemplo de como funcionan los ciclos while:\n",
        "import numpy as np\n",
        "\n",
        "# Generamos una onda seno con frecuencia de 2 Hz y amplitud de 1\n",
        "fs = 100                         # Definimos una frecuencia de muestreo\n",
        "t = np.arange(0, 1, 1/fs)        # Generamos un vector de tiempo con paso igual al periodo de muetreo\n",
        "x = np.sin(2*np.pi*2*t)          # Generamos la onda seno\n",
        "\n",
        "# Vamos a calcular el valor rms de la señal usando un ciclo while\n",
        "i = 0                            # Definimos nuestra variable de iteración\n",
        "N = len(x)                       # con la función len calculamos el tamaño de la variable x\n",
        "sum_cuadrada = 0                 # Creamos una variable para guardar las sumas de los cuadrados\n",
        "while i < N:\n",
        "    sum_cuadrada += x[i]**2      # Añadimos la suma de los cuadrados de la variable x en cada iteración\n",
        "    i += 1                       # Añadimos el incremento a la variable de iteración\n",
        "rms = np.sqrt(sum_cuadrada/N)    # De esta forma cálculamos el valor rms de la señal seno\n",
        "\n",
        "print(f'El valor RMS de la señal es: {rms}')\n"
      ],
      "metadata": {
        "colab": {
          "base_uri": "https://localhost:8080/"
        },
        "id": "Wo1fwsAJs01w",
        "outputId": "fa734a82-a96a-4e2f-fca7-dd1aa9dabde6"
      },
      "execution_count": null,
      "outputs": [
        {
          "output_type": "stream",
          "name": "stdout",
          "text": [
            "El valor RMS de la señal es: 0.7071067811865476\n"
          ]
        }
      ]
    },
    {
      "cell_type": "markdown",
      "source": [
        "## **Lista y tuplas**"
      ],
      "metadata": {
        "id": "FwaptGArgXMl"
      }
    },
    {
      "cell_type": "markdown",
      "source": [
        "### **Listas**\n",
        "Una lista es un conjunto de elementos (variables). Las listas son mutables.\n"
      ],
      "metadata": {
        "id": "kKwz0W319YAj"
      }
    },
    {
      "cell_type": "code",
      "source": [
        "# Nombres --> list ['Juan', 'Karla', 'Maria', 'Ricardo']\n",
        "#                    (0)      (1)      (2)       (3)\n",
        "\n",
        "print(' LISTAS (mutables) '.center(80,'-'))\n",
        "\n",
        "name = ['Juan', 'Karla', 'Maria', 'Ricardo', 0, 100, 13.123, True]\n",
        "print(f'''\n",
        "Lista original: {name}\n",
        "Elementos de la lista name[1:5] sin incluir el indice: {name[1:5]}\n",
        "''')\n",
        "\n",
        "# Cambiar un valor\n",
        "name[3] = 'Ivone'\n",
        "print(name)\n",
        "\n",
        "# Iterar una lista\n",
        "for i in name:\n",
        "    print(f'Iterando... {i}')\n",
        "else:\n",
        "    print('No existen mas elementos en la lista\\n')\n",
        "\n",
        "# Saber la cantidad de elementos que contiene una lista\n",
        "print(f'La cantidad de elementos de la lista es: {len(name)}\\n')\n",
        "\n",
        "# Agregar elementos al final de una lista\n",
        "name.append('Lorenzo')\n",
        "print(name)\n",
        "\n",
        "# Insertar un elemento en un indice especifico (los demas elementos se mueven a la derecha)\n",
        "name.insert(1, 'Octavio')\n",
        "print(name)\n",
        "\n",
        "# Remover un elemento\n",
        "name.remove('Maria')\n",
        "print(name)\n",
        "\n",
        "# Remover el ultimo valor agregado\n",
        "name.pop()\n",
        "print(name)\n",
        "\n",
        "# Eliminar un indice (los demas elementos se mueven a la izquierda)\n",
        "del name[0]\n",
        "print(name)\n",
        "\n",
        "# Eliminar todos los elementos de la lista\n",
        "name.clear()\n",
        "print(name)\n",
        "\n",
        "# Borrar la lista por completa\n",
        "#del name\n",
        "#print(name)\n",
        "\n"
      ],
      "metadata": {
        "id": "047b3VhcgevF",
        "colab": {
          "base_uri": "https://localhost:8080/"
        },
        "outputId": "75858560-6e89-4c64-ff64-2e9c4375ab30"
      },
      "execution_count": null,
      "outputs": [
        {
          "output_type": "stream",
          "name": "stdout",
          "text": [
            "------------------------------ LISTAS (mutables) -------------------------------\n",
            "\n",
            "Lista original: ['Juan', 'Karla', 'Maria', 'Ricardo', 0, 100, 13.123, True]\n",
            "Elementos de la lista name[1:5] sin incluir el indice: ['Karla', 'Maria', 'Ricardo', 0]\n",
            "\n",
            "['Juan', 'Karla', 'Maria', 'Ivone', 0, 100, 13.123, True]\n",
            "Iterando... Juan\n",
            "Iterando... Karla\n",
            "Iterando... Maria\n",
            "Iterando... Ivone\n",
            "Iterando... 0\n",
            "Iterando... 100\n",
            "Iterando... 13.123\n",
            "Iterando... True\n",
            "No existen mas elementos en la lista\n",
            "\n",
            "La cantidad de elementos de la lista es: 8\n",
            "\n",
            "['Juan', 'Karla', 'Maria', 'Ivone', 0, 100, 13.123, True, 'Lorenzo']\n",
            "['Juan', 'Octavio', 'Karla', 'Maria', 'Ivone', 0, 100, 13.123, True, 'Lorenzo']\n",
            "['Juan', 'Octavio', 'Karla', 'Ivone', 0, 100, 13.123, True, 'Lorenzo']\n",
            "['Juan', 'Octavio', 'Karla', 'Ivone', 0, 100, 13.123, True]\n",
            "['Octavio', 'Karla', 'Ivone', 0, 100, 13.123, True]\n",
            "[]\n"
          ]
        }
      ]
    },
    {
      "cell_type": "markdown",
      "source": [
        "### **Tuplas**\n",
        "Una tupla sigue guardando el orden de los elementos, al igual que las lista, pero estos elementos no se pueden modificar, eliminar o agregar (variable inmutable).\n",
        "Las funciones append(), remove(), insert(), etc. no son validas para las tuplas."
      ],
      "metadata": {
        "id": "n45jouUF9zcu"
      }
    },
    {
      "cell_type": "code",
      "source": [
        "# frutas = tuple ('Naranja', 'Platano', 43000, True)\n",
        "#                    (0)        (1)      (2)   (3)\n",
        "\n",
        "print(' TUPLAS (inmutables) '.center(80,'-'))\n",
        "\n",
        "frutas = ('Naranja', 'Platano', 43000, True)\n",
        "print(f'Tupla: {frutas}')\n",
        "\n",
        "# Saber la cantidad de elementos de una tupla\n",
        "print(f'La cantidad de elementos de la tupla es: {len(frutas)}\\n')\n",
        "\n",
        "# Acceder a un elemento en particular\n",
        "print('Indice 0 de la tupla:',frutas[0])\n",
        "\n",
        "# Acceder a un rango (Sin incluir el ultimo indice)\n",
        "print('Rango [0:2] de la tupla (sin incluir el ultimo indice):', frutas[0:2], '\\n')\n",
        "\n",
        "# Recorrer elementos\n",
        "for fruta in frutas:\n",
        "    print('Iterando',fruta, end = ' - ')\n",
        "\n",
        "# \"Cambiar un valor a una tupla\"\n",
        "fruta_lista = list(frutas)\n",
        "fruta_lista[0] = 'Pera'\n",
        "frutas = tuple(fruta_lista)\n",
        "print(f'''\n",
        "\"Cambiando\" el valor de una tupla: {frutas}\n",
        "''')\n",
        "\n",
        "# Eliminar una tupla\n",
        "#del frutas\n",
        "#print(frutas)"
      ],
      "metadata": {
        "colab": {
          "base_uri": "https://localhost:8080/"
        },
        "id": "rexvIqej9FAW",
        "outputId": "a205214a-0c18-41f7-b231-e30ef459dc15"
      },
      "execution_count": null,
      "outputs": [
        {
          "output_type": "stream",
          "name": "stdout",
          "text": [
            "----------------------------- TUPLAS (inmutables) ------------------------------\n",
            "Tupla: ('Naranja', 'Platano', 43000, True)\n",
            "La cantidad de elementos de la tupla es: 4\n",
            "\n",
            "Indice 0 de la tupla: Naranja\n",
            "Rango [0:2] de la tupla (sin incluir el ultimo indice): ('Naranja', 'Platano') \n",
            "\n",
            "Iterando Naranja - Iterando Platano - Iterando 43000 - Iterando True - \n",
            "\"Cambiando\" el valor de una tupla: ('Pera', 'Platano', 43000, True)\n",
            "\n"
          ]
        }
      ]
    }
  ]
}